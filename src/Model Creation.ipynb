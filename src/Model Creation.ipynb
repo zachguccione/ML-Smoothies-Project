{
 "cells": [
  {
   "cell_type": "code",
   "execution_count": 1,
   "metadata": {},
   "outputs": [],
   "source": [
    "import pandas as pd\n",
    "import seaborn as sns\n",
    "from sklearn.preprocessing import StandardScaler\n",
    "from sklearn.preprocessing import OneHotEncoder\n",
    "from sklearn.decomposition import PCA\n",
    "from sklearn.cluster import KMeans\n",
    "from sklearn.metrics import silhouette_score\n",
    "from sklearn.decomposition import PCA\n",
    "import matplotlib.pyplot as plt"
   ]
  },
  {
   "cell_type": "code",
   "execution_count": 2,
   "metadata": {},
   "outputs": [],
   "source": [
    "gym_data = pd.read_csv('gym_members_exercise_tracking.csv')"
   ]
  },
  {
   "cell_type": "code",
   "execution_count": 3,
   "metadata": {},
   "outputs": [],
   "source": [
    "scaler = StandardScaler()\n",
    "\n",
    "# Replace 'df' with 'gym_data' to use the correct DataFrame\n",
    "scaled_features = scaler.fit_transform(gym_data[['Age', 'Height (m)', 'Weight (kg)', 'Calories_Burned', 'BMI']])\n",
    "# Also adjust column names to match the DataFrame\n",
    "\n",
    "df_scaled = pd.DataFrame(scaled_features, columns=['Age', 'Height', 'Weight', 'Calories_Burned', 'BMI'])"
   ]
  },
  {
   "cell_type": "code",
   "execution_count": 4,
   "metadata": {},
   "outputs": [],
   "source": [
    "# Initialize OneHotEncoder without the 'sparse' argument and handle unknown values\n",
    "encoder = OneHotEncoder(drop='first', handle_unknown='ignore', sparse_output=False)\n",
    "# sparse_output=False to return a dense array\n",
    "\n",
    "encoded_features = encoder.fit_transform(gym_data[['Workout_Type', 'Gender']]) # Use gym_data instead of df\n",
    "encoded_df = pd.DataFrame(encoded_features, columns=encoder.get_feature_names_out(['Workout_Type', 'Gender']))\n",
    "\n",
    "# Assuming df_scaled is defined in the previous cell, if not, please define it\n",
    "df_preprocessed = pd.concat([df_scaled, encoded_df], axis=1)"
   ]
  },
  {
   "cell_type": "code",
   "execution_count": 5,
   "metadata": {},
   "outputs": [],
   "source": [
    "pca = PCA(n_components=2)\n",
    "pca_result = pca.fit_transform(df_preprocessed)\n",
    "df_pca = pd.DataFrame(pca_result, columns=['PCA1', 'PCA2'])"
   ]
  },
  {
   "cell_type": "code",
   "execution_count": 6,
   "metadata": {},
   "outputs": [],
   "source": [
    "# Choose optimal K based on Elbow and Silhouette results (e.g., K=4)\n",
    "optimal_k = 4\n",
    "kmeans = KMeans(n_clusters=optimal_k, random_state=42)\n",
    "df_scaled['Cluster'] = kmeans.fit_predict(df_scaled)\n",
    "\n",
    "# Apply K-Means Clustering with k=5\n",
    "kmeans = KMeans(n_clusters=5, random_state=42)\n",
    "clusters = kmeans.fit_predict(df_pca)\n",
    "df_pca\n",
    "# Label the clusters based on their characteristics\n",
    "cluster_labels = {\n",
    "    0: \"Strength and High Intensity Workouts\",\n",
    "    1: \"Cardio-Focused Individuals\",\n",
    "    2: \"Weight Loss Beginners\",\n",
    "    3: \"Endurance Booster\",\n",
    "    4: \"Balanced Energy for Beginners\"\n",
    "}\n",
    "gym_data['Cluster'] = clusters\n",
    "gym_data['Cluster_Label'] = gym_data['Cluster'].map(cluster_labels)\n"
   ]
  },
  {
   "cell_type": "code",
   "execution_count": 7,
   "metadata": {},
   "outputs": [
    {
     "name": "stdout",
     "output_type": "stream",
     "text": [
      "Model saved as 'kmeans_model.pkl'\n"
     ]
    }
   ],
   "source": [
    "# Save the model\n",
    "import joblib\n",
    "joblib.dump(kmeans, 'kmeans_model.pkl')\n",
    "print(\"Model saved as 'kmeans_model.pkl'\")"
   ]
  }
 ],
 "metadata": {
  "kernelspec": {
   "display_name": "base",
   "language": "python",
   "name": "python3"
  },
  "language_info": {
   "codemirror_mode": {
    "name": "ipython",
    "version": 3
   },
   "file_extension": ".py",
   "mimetype": "text/x-python",
   "name": "python",
   "nbconvert_exporter": "python",
   "pygments_lexer": "ipython3",
   "version": "3.12.4"
  }
 },
 "nbformat": 4,
 "nbformat_minor": 2
}
